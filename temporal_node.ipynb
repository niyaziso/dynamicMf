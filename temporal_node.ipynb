{
 "cells": [
  {
   "cell_type": "code",
   "execution_count": null,
   "metadata": {
    "collapsed": true
   },
   "outputs": [],
   "source": [
    "# import necessary libraries\n",
    "import tensorflow as tf\n",
    "import numpy as np\n",
    "import matplotlib.pyplot as plt\n",
    "import pickle\n",
    "#%matplotlib inline\n",
    "from sklearn.manifold import TSNE\n",
    "from matplotlib.backends.backend_pdf import PdfPages\n",
    "import seaborn as sns; sns.set(style=\"ticks\", color_codes=True)\n",
    "import pandas as pd\n",
    "import math\n",
    "import os,gzip\n",
    "from datetime import datetime\n",
    "import scipy as scp\n",
    "tf.set_random_seed(1) # set random seed"
   ]
  },
  {
   "cell_type": "code",
   "execution_count": null,
   "metadata": {
    "collapsed": true
   },
   "outputs": [],
   "source": [
    "# read data file\n",
    "Z_dat = pickle.load(open('./Data/Zdat.p', 'rb'))"
   ]
  },
  {
   "cell_type": "code",
   "execution_count": null,
   "metadata": {
    "collapsed": true
   },
   "outputs": [],
   "source": [
    "# model parameters\n",
    "N = Z_dat.shape[1] # number of nodes in cluster\n",
    "M = Z_dat.shape[2]   # number of statistics that measure cluster performance\n",
    "T = Z_dat.shape[0] # number of time steps"
   ]
  },
  {
   "cell_type": "code",
   "execution_count": null,
   "metadata": {
    "collapsed": true
   },
   "outputs": [],
   "source": [
    "# read the resulting factorization with K = 10\n",
    "[V_res, U_bar_res, U_hat_res] = pickle.load(open('./Data/Results/dynMF_10.p', 'rb'))"
   ]
  },
  {
   "cell_type": "code",
   "execution_count": null,
   "metadata": {},
   "outputs": [],
   "source": [
    "print(U_bar_res.shape)\n",
    "print(U_hat_res.shape)\n",
    "K = V_res.shape[1]"
   ]
  },
  {
   "cell_type": "code",
   "execution_count": null,
   "metadata": {
    "collapsed": true
   },
   "outputs": [],
   "source": [
    "# read the corresponding clock time of each time step\n",
    "tensortime=[]\n",
    "ll = []\n",
    "with open('/project/Lonestar/hpc_fall17/hpcCluster/tensor_time.csv') as ff:\n",
    "    for i, line in enumerate(ff):\n",
    "        l1 = line.strip(\"\\n\")\n",
    "        ll.append(l1)\n",
    "        l2 = l1[-19:]\n",
    "        l2 = datetime.strptime(l2,\"%Y-%m-%d %H:%M:%S\")\n",
    "        tensortime.append(l2)"
   ]
  },
  {
   "cell_type": "code",
   "execution_count": null,
   "metadata": {},
   "outputs": [],
   "source": [
    "# compute the minimum and maximum values for each latent dimension\n",
    "lim = np.zeros((K,2))\n",
    "for dim in range(K):\n",
    "    lim[dim, 0] = np.min(U_hat_res[:,:,dim])\n",
    "    lim[dim, 1] = np.max(U_hat_res[:,:,dim])"
   ]
  },
  {
   "cell_type": "code",
   "execution_count": null,
   "metadata": {
    "scrolled": true
   },
   "outputs": [],
   "source": [
    "# for each time step, make a figure to show distribution of nodes in K = 10 dimensional latent space\n",
    "for t in range(1000):\n",
    "    print(t)\n",
    "    # each subplot visualize two dimensions of latent space\n",
    "    f, (ax1, ax2, ax3, ax4, ax5) = plt.subplots(1,5,sharey=False)\n",
    "    f.set_figheight(8)\n",
    "    f.set_figwidth(40)\n",
    "    plt.suptitle(tensortime[t])\n",
    "    # scatter plot of the node distribution in 1st and 2nd latent dimensions\n",
    "    ax1.scatter(U_hat_res[t,:, 0], U_hat_res[t,:, 1], c=range(N))\n",
    "    ax1.set_xlim(lim[0])\n",
    "    ax1.set_ylim(lim[1])\n",
    "    ax1.set_xlabel('latent dimension 1')\n",
    "    ax1.set_ylabel('latent dimension 2')\n",
    "    # scatter plot of the node distribution in 3rd and 4th latent dimensions\n",
    "    ax2.scatter(U_hat_res[t,:, 2], U_hat_res[t,:, 3], c=range(N))\n",
    "    ax2.set_xlim(lim[2])\n",
    "    ax2.set_ylim(lim[3])\n",
    "    ax2.set_xlabel('latent dimension 3')\n",
    "    ax2.set_ylabel('latent dimension 4')\n",
    "    # scatter plot of the node distribution in 5th and 6th latent dimensions\n",
    "    ax3.scatter(U_hat_res[t,:, 4], U_hat_res[t,:, 5], c=range(N))\n",
    "    ax3.set_xlim(lim[4])\n",
    "    ax3.set_ylim(lim[5])\n",
    "    ax3.set_xlabel('latent dimension 5')\n",
    "    ax3.set_ylabel('latent dimension 6')\n",
    "    # scatter plot of the node distribution in 7th and 8th latent dimensions\n",
    "    ax4.scatter(U_hat_res[t,:, 6], U_hat_res[t,:, 7], c=range(N))\n",
    "    ax4.set_xlim(lim[6])\n",
    "    ax4.set_ylim(lim[7])\n",
    "    ax4.set_xlabel('latent dimension 7')\n",
    "    ax4.set_ylabel('latent dimension 8')\n",
    "    # scatter plot of the node distribution in 9th and 10th latent dimensions\n",
    "    ax5.scatter(U_hat_res[t,:, 8], U_hat_res[t,:, 9], c=range(N))\n",
    "    ax5.set_xlim(lim[8])\n",
    "    ax5.set_ylim(lim[9])\n",
    "    ax5.set_xlabel('latent dimension 9')\n",
    "    ax5.set_ylabel('latent dimension 10')\n",
    "    \n",
    "    #store it as a frame in Video folder\n",
    "    plt.savefig('./Video/frame%04d.pdf'%t, dpi=192)\n",
    "    plt.close('all')"
   ]
  },
  {
   "cell_type": "code",
   "execution_count": null,
   "metadata": {
    "collapsed": true
   },
   "outputs": [],
   "source": []
  }
 ],
 "metadata": {
  "kernelspec": {
   "display_name": "Python 3",
   "language": "python",
   "name": "python3"
  },
  "language_info": {
   "codemirror_mode": {
    "name": "ipython",
    "version": 3
   },
   "file_extension": ".py",
   "mimetype": "text/x-python",
   "name": "python",
   "nbconvert_exporter": "python",
   "pygments_lexer": "ipython3",
   "version": "3.6.4"
  }
 },
 "nbformat": 4,
 "nbformat_minor": 2
}
