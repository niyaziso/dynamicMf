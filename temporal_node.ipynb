{
 "cells": [
  {
   "cell_type": "code",
   "execution_count": 2,
   "metadata": {},
   "outputs": [],
   "source": [
    "# import necessary libraries\n",
    "import tensorflow as tf\n",
    "import csv\n",
    "import numpy as np\n",
    "import matplotlib.pyplot as plt\n",
    "import pickle\n",
    "#%matplotlib inline\n",
    "from sklearn.manifold import TSNE\n",
    "from matplotlib.backends.backend_pdf import PdfPages\n",
    "import seaborn as sns; sns.set(style=\"ticks\", color_codes=True)\n",
    "import pandas as pd\n",
    "import math\n",
    "import os,gzip\n",
    "from datetime import datetime\n",
    "import scipy as scp\n",
    "tf.set_random_seed(1) # set random seed"
   ]
  },
  {
   "cell_type": "code",
   "execution_count": 7,
   "metadata": {},
   "outputs": [],
   "source": [
    "Z_dat = pickle.load(open('./Data/Zfolder/Zdat.p', 'rb'))"
   ]
  },
  {
   "cell_type": "code",
   "execution_count": 8,
   "metadata": {
    "collapsed": true
   },
   "outputs": [],
   "source": [
    "# model parameters\n",
    "N = Z_dat.shape[1] # number of nodes in cluster\n",
    "M = Z_dat.shape[2]   # number of statistics that measure cluster performance\n",
    "T = Z_dat.shape[0] # number of time steps"
   ]
  },
  {
   "cell_type": "code",
   "execution_count": 15,
   "metadata": {
    "collapsed": true
   },
   "outputs": [],
   "source": [
    "[V_res, U_bar_res, U_hat_res] = pickle.load(open('./Data/Results/dynMF_10.p', 'rb'))"
   ]
  },
  {
   "cell_type": "code",
   "execution_count": 22,
   "metadata": {},
   "outputs": [
    {
     "name": "stdout",
     "output_type": "stream",
     "text": [
      "(1709, 10)\n",
      "(1000, 1709, 10)\n"
     ]
    }
   ],
   "source": [
    "print(U_bar_res.shape)\n",
    "print(U_hat_res.shape)\n",
    "K = V_res.shape[1]"
   ]
  },
  {
   "cell_type": "code",
   "execution_count": 17,
   "metadata": {
    "collapsed": true
   },
   "outputs": [],
   "source": [
    "tensortime=[]\n",
    "ll = []\n",
    "with open('/project/Lonestar/hpc_fall17/hpcCluster/tensor_time.csv') as ff:\n",
    "    for i, line in enumerate(ff):\n",
    "        l1 = line.strip(\"\\n\")\n",
    "        ll.append(l1)\n",
    "        l2 = l1[-19:]\n",
    "        l2 = datetime.strptime(l2,\"%Y-%m-%d %H:%M:%S\")\n",
    "        tensortime.append(l2)"
   ]
  },
  {
   "cell_type": "code",
   "execution_count": 24,
   "metadata": {},
   "outputs": [
    {
     "name": "stdout",
     "output_type": "stream",
     "text": [
      "[[-4.94101807  4.54537018]\n",
      " [-3.69594285  3.72428475]\n",
      " [-4.09707054  5.88021455]\n",
      " [-3.54619003  3.43984036]\n",
      " [-7.28815816  4.12189974]\n",
      " [-5.7523114   5.27557829]\n",
      " [-6.45443002  4.62289612]\n",
      " [-5.97464121  3.96415264]\n",
      " [-5.91196143  4.03519327]\n",
      " [-3.86720329  3.71751763]]\n"
     ]
    }
   ],
   "source": [
    "lim = np.zeros((K,2))\n",
    "for dim in range(K):\n",
    "    lim[dim, 0] = np.min(U_hat_res[:,:,dim])\n",
    "    lim[dim, 1] = np.max(U_hat_res[:,:,dim])"
   ]
  },
  {
   "cell_type": "code",
   "execution_count": 31,
   "metadata": {
    "scrolled": true
   },
   "outputs": [
    {
     "name": "stdout",
     "output_type": "stream",
     "text": [
      "0\n"
     ]
    }
   ],
   "source": [
    "for t in range(1):\n",
    "    print(t)\n",
    "    f, (ax1, ax2, ax3, ax4, ax5) = plt.subplots(1,5,sharey=False)\n",
    "    f.set_figheight(8)\n",
    "    f.set_figwidth(40)\n",
    "    plt.suptitle(tensortime[t])\n",
    "    ax1.scatter(U_hat_res[t,:, 0], U_hat_res[t,:, 1], c=range(N))\n",
    "    ax1.set_xlim(lim[0])\n",
    "    ax1.set_ylim(lim[1])\n",
    "    ax1.set_xlabel('latent dimension 1')\n",
    "    ax1.set_ylabel('latent dimension 2')\n",
    "    ax2.scatter(U_hat_res[t,:, 2], U_hat_res[t,:, 3], c=range(N))\n",
    "    ax2.set_xlim(lim[2])\n",
    "    ax2.set_ylim(lim[3])\n",
    "    ax2.set_xlabel('latent dimension 3')\n",
    "    ax2.set_ylabel('latent dimension 4')\n",
    "    ax3.scatter(U_hat_res[t,:, 4], U_hat_res[t,:, 5], c=range(N))\n",
    "    ax3.set_xlim(lim[4])\n",
    "    ax3.set_ylim(lim[5])\n",
    "    ax3.set_xlabel('latent dimension 5')\n",
    "    ax3.set_ylabel('latent dimension 6')\n",
    "    ax4.scatter(U_hat_res[t,:, 6], U_hat_res[t,:, 7], c=range(N))\n",
    "    ax4.set_xlim(lim[6])\n",
    "    ax4.set_ylim(lim[7])\n",
    "    ax4.set_xlabel('latent dimension 7')\n",
    "    ax4.set_ylabel('latent dimension 8')\n",
    "    ax5.scatter(U_hat_res[t,:, 8], U_hat_res[t,:, 9], c=range(N))\n",
    "    ax5.set_xlim(lim[8])\n",
    "    ax5.set_ylim(lim[9])\n",
    "    ax5.set_xlabel('latent dimension 9')\n",
    "    ax5.set_ylabel('latent dimension 10')\n",
    "    \n",
    "    #plt.show()\n",
    "    plt.savefig('./Video/frame%04d.pdf'%t, dpi=192)\n",
    "    plt.close('all')"
   ]
  },
  {
   "cell_type": "code",
   "execution_count": null,
   "metadata": {
    "collapsed": true
   },
   "outputs": [],
   "source": []
  }
 ],
 "metadata": {
  "kernelspec": {
   "display_name": "Python 2",
   "language": "python",
   "name": "python2"
  },
  "language_info": {
   "codemirror_mode": {
    "name": "ipython",
    "version": 2
   },
   "file_extension": ".py",
   "mimetype": "text/x-python",
   "name": "python",
   "nbconvert_exporter": "python",
   "pygments_lexer": "ipython2",
   "version": "2.7.14"
  }
 },
 "nbformat": 4,
 "nbformat_minor": 2
}
