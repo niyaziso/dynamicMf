{
 "cells": [
  {
   "cell_type": "code",
   "execution_count": null,
   "metadata": {},
   "outputs": [],
   "source": [
    "# import necessary libraries\n",
    "import tensorflow as tf\n",
    "import csv\n",
    "import numpy as np\n",
    "import matplotlib.pyplot as plt\n",
    "import pickle\n",
    "#%matplotlib inline\n",
    "from sklearn.manifold import TSNE\n",
    "from matplotlib.backends.backend_pdf import PdfPages\n",
    "import seaborn as sns; sns.set(style=\"ticks\", color_codes=True)\n",
    "import pandas as pd\n",
    "from datetime import datetime\n",
    "import scipy as scp\n",
    "import math"
   ]
  },
  {
   "cell_type": "code",
   "execution_count": null,
   "metadata": {
    "collapsed": true
   },
   "outputs": [],
   "source": [
    "# read the resulting factorization with K = 10\n",
    "[V_res, U_bar_res, U_hat_res] = pickle.load(open('Data/Results/dynMF_10.p', 'rb'))\n",
    "M, K = V_res.shape\n",
    "N, _ = U_bar_res.shape\n",
    "T, _, _ = U_hat_res.shape"
   ]
  },
  {
   "cell_type": "code",
   "execution_count": null,
   "metadata": {
    "collapsed": true
   },
   "outputs": [],
   "source": [
    "# read corresponding clock time for each time step\n",
    "tensortime=[]\n",
    "ll = []\n",
    "with open('tensor_time.csv') as ff:\n",
    "    for i, line in enumerate(ff):\n",
    "        l1 = line.strip(\"\\n\")\n",
    "        ll.append(l1)\n",
    "        l2 = l1[-19:]\n",
    "        l2 = datetime.strptime(l2,\"%Y-%m-%d %H:%M:%S\")\n",
    "        tensortime.append(l2)"
   ]
  },
  {
   "cell_type": "code",
   "execution_count": null,
   "metadata": {
    "scrolled": true
   },
   "outputs": [],
   "source": [
    "# correlation between 10 latent dimensions for each time step using U_hat\n",
    "# the resulting frames will be subsequently used to produce video Video/corr.mp4\n",
    "for t in range(T):\n",
    "    print(t)\n",
    "    temp = []\n",
    "    correlation = np.zeros((K, K))\n",
    "    for k1 in range(K):\n",
    "        for k2 in range(K):\n",
    "            correlation[k1, k2], _ = scp.stats.pearsonr(U_hat_res[t, :, k1], U_hat_res[t, :, k2])\n",
    "            if math.isnan(correlation[k1, k2]):\n",
    "                 print('t = ' + str(t) + '\\tk1 = ' + str(k1) + '\\tk2 = ' + str(k2))\n",
    "            else:\n",
    "                temp.append([k1, k2, correlation[k1, k2]])\n",
    "\n",
    "    df = pd.DataFrame(data = temp, columns=['latent_dimension1', 'latent_dimension2', 'correlation'])\n",
    "    df = df.pivot(\"latent_dimension1\", \"latent_dimension2\", \"correlation\")\n",
    "    sns.set(font_scale=1)\n",
    "    g = sns.heatmap(df, square=True, annot=True, fmt=\".1f\", vmin=-1.0, vmax=1.0)\n",
    "    plt.title(tensortime[t])\n",
    "    #plt.show()\n",
    "    plt.savefig('./Video/correlation_%04d.png'%t)\n",
    "    plt.close('all')"
   ]
  },
  {
   "cell_type": "code",
   "execution_count": null,
   "metadata": {
    "collapsed": true
   },
   "outputs": [],
   "source": [
    "# correlation between 10 latent dimensions using time-independent component U_bar\n",
    "# the resulting figure is also Figure 4 in the paper\n",
    "correlation = np.zeros((K, K))\n",
    "temp = []\n",
    "for k1 in range(K):\n",
    "    for k2 in range(K):\n",
    "        correlation[k1, k2], _ = scp.stats.pearsonr(U_bar_res[:, k1], U_bar_res[:, k2])\n",
    "        if math.isnan(correlation[k1, k2]):\n",
    "             print('t = ' + str(t) + '\\tk1 = ' + str(k1) + '\\tk2 = ' + str(k2))\n",
    "        else:\n",
    "            temp.append([k1, k2, correlation[k1, k2]])\n",
    "\n",
    "df = pd.DataFrame(data = temp, columns=['latent_dimension1', 'latent_dimension2', 'correlation'])\n",
    "df = df.pivot(\"latent_dimension1\", \"latent_dimension2\", \"correlation\")\n",
    "sns.set(font_scale=1)\n",
    "g = sns.heatmap(df, square=True, annot=True, fmt=\".1f\",vmin=-1.0, vmax=1.0)\n",
    "#plt.show()\n",
    "plt.savefig('./Figure/correlation.pdf')\n",
    "plt.close('all')"
   ]
  },
  {
   "cell_type": "code",
   "execution_count": null,
   "metadata": {
    "collapsed": true
   },
   "outputs": [],
   "source": []
  }
 ],
 "metadata": {
  "kernelspec": {
   "display_name": "Python 3",
   "language": "python",
   "name": "python3"
  },
  "language_info": {
   "codemirror_mode": {
    "name": "ipython",
    "version": 3
   },
   "file_extension": ".py",
   "mimetype": "text/x-python",
   "name": "python",
   "nbconvert_exporter": "python",
   "pygments_lexer": "ipython3",
   "version": "3.6.4"
  }
 },
 "nbformat": 4,
 "nbformat_minor": 2
}
